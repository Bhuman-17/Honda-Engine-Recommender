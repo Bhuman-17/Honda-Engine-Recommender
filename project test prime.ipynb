{
 "cells": [
  {
   "cell_type": "code",
   "execution_count": 9,
   "id": "96b615e8",
   "metadata": {},
   "outputs": [],
   "source": [
    "import pandas as pd\n",
    "df = pd.read_csv(\"Honda Engine Dataset.csv\")\n",
    "\n",
    "# Define columns\n",
    "input_cols = [\n",
    "    \"Product Type\", \"Shaft Rotation\", \"Fuel Type\",\n",
    "    \"Charging System\", \"Engine Type\",'Engine Displacement (cc)','Maximum Power (HP)'\n",
    "\n",
    "]\n",
    "output_class = \"Series\"\n",
    "output_regs = [\n",
    "    \"Bore (mm)\", \"Stroke (mm)\",\n",
    "    \"Oil Capacity (L)\", \"Cylinders (qty.)\",\n",
    "    \"Dry Weight (kg)\", \"Shaft Diameter (mm)\",\n",
    "]\n",
    "\n",
    "X = df[input_cols]\n",
    "y_class = df[output_class]\n",
    "y_regs = df[output_regs] \n"
   ]
  },
  {
   "cell_type": "code",
   "execution_count": 10,
   "id": "22cb7042",
   "metadata": {},
   "outputs": [],
   "source": [
    "from sklearn.preprocessing import OneHotEncoder, LabelEncoder\n",
    "from sklearn.compose import ColumnTransformer\n",
    "# Encode target for classification\n",
    "le = LabelEncoder()\n",
    "y_class_encoded = le.fit_transform(y_class)\n",
    "# Preprocessing\n",
    "categorical_cols = X.select_dtypes(include=\"object\").columns.tolist()\n",
    "preprocessor = ColumnTransformer([\n",
    "    (\"onehot\", OneHotEncoder(handle_unknown=\"ignore\"), categorical_cols)\n",
    "], remainder=\"passthrough\")\n"
   ]
  },
  {
   "cell_type": "code",
   "execution_count": 11,
   "id": "214a5087",
   "metadata": {},
   "outputs": [],
   "source": [
    "from sklearn.model_selection import train_test_split\n",
    "# Train-test split\n",
    "X_train, X_test, y_train_cls, y_test_cls, y_train_regs, y_test_regs = train_test_split(X, y_class_encoded, y_regs, test_size=0.2, random_state=42)"
   ]
  },
  {
   "cell_type": "code",
   "execution_count": 12,
   "id": "4874a468",
   "metadata": {},
   "outputs": [],
   "source": [
    "#classifier mechanism for series\n",
    "from sklearn.pipeline import Pipeline\n",
    "from sklearn.linear_model import LogisticRegression\n",
    "from sklearn.ensemble import RandomForestClassifier, AdaBoostClassifier, GradientBoostingClassifier\n",
    "from sklearn.tree import DecisionTreeClassifier\n",
    "from xgboost import XGBClassifier\n",
    "from sklearn.metrics import accuracy_score\n",
    "classifiers = {\n",
    "    \"Random Forest\": RandomForestClassifier(n_estimators=50, random_state=42),\n",
    "    \"XGBoost\": XGBClassifier(n_estimators=50, use_label_encoder=False, eval_metric=\"mlogloss\"),\n",
    "    \"AdaBoost\": AdaBoostClassifier(n_estimators=50),\n",
    "    \"Logistic Regression\": LogisticRegression(max_iter=500),\n",
    "    \"Decision Tree\": DecisionTreeClassifier(),\n",
    "    \"Gradient Boost\": GradientBoostingClassifier(n_estimators=50)\n",
    "}\n",
    "\n"
   ]
  },
  {
   "cell_type": "code",
   "execution_count": 13,
   "id": "76494583",
   "metadata": {},
   "outputs": [
    {
     "name": "stdout",
     "output_type": "stream",
     "text": [
      "Random Forest Accuracy: 100.00%\n"
     ]
    },
    {
     "name": "stderr",
     "output_type": "stream",
     "text": [
      "c:\\Users\\Bhuman Wadekar\\AppData\\Local\\Programs\\Python\\Python313\\Lib\\site-packages\\xgboost\\training.py:183: UserWarning: [13:40:21] WARNING: C:\\actions-runner\\_work\\xgboost\\xgboost\\src\\learner.cc:738: \n",
      "Parameters: { \"use_label_encoder\" } are not used.\n",
      "\n",
      "  bst.update(dtrain, iteration=i, fobj=obj)\n"
     ]
    },
    {
     "name": "stdout",
     "output_type": "stream",
     "text": [
      "XGBoost Accuracy: 100.00%\n",
      "AdaBoost Accuracy: 78.27%\n"
     ]
    },
    {
     "name": "stderr",
     "output_type": "stream",
     "text": [
      "c:\\Users\\Bhuman Wadekar\\AppData\\Local\\Programs\\Python\\Python313\\Lib\\site-packages\\sklearn\\linear_model\\_logistic.py:465: ConvergenceWarning: lbfgs failed to converge (status=1):\n",
      "STOP: TOTAL NO. OF ITERATIONS REACHED LIMIT.\n",
      "\n",
      "Increase the number of iterations (max_iter) or scale the data as shown in:\n",
      "    https://scikit-learn.org/stable/modules/preprocessing.html\n",
      "Please also refer to the documentation for alternative solver options:\n",
      "    https://scikit-learn.org/stable/modules/linear_model.html#logistic-regression\n",
      "  n_iter_i = _check_optimize_result(\n"
     ]
    },
    {
     "name": "stdout",
     "output_type": "stream",
     "text": [
      "Logistic Regression Accuracy: 100.00%\n",
      "Decision Tree Accuracy: 100.00%\n",
      "Gradient Boost Accuracy: 100.00%\n",
      "\n",
      "Best Classifier: Random Forest\n"
     ]
    }
   ],
   "source": [
    "best_cls_name = None\n",
    "best_cls_score = 0\n",
    "best_cls_pipeline = None\n",
    "\n",
    "for name, clf in classifiers.items():\n",
    "    pipe = Pipeline([\n",
    "        (\"preprocess\", preprocessor),\n",
    "        (\"classifier\", clf)\n",
    "    ])\n",
    "    pipe.fit(X_train, y_train_cls)\n",
    "    preds = pipe.predict(X_test)\n",
    "    acc = accuracy_score(y_test_cls, preds)\n",
    "    print(f\"{name} Accuracy: {acc * 100:.2f}%\")\n",
    "    if acc > best_cls_score:\n",
    "        best_cls_score = acc\n",
    "        best_cls_name = name\n",
    "        best_cls_pipeline = pipe\n",
    "import joblib\n",
    "joblib.dump(best_cls_pipeline, \"series_classifier_model.joblib\")\n",
    "joblib.dump(le, \"series_label_encoder.joblib\")\n",
    "print(f\"\\nBest Classifier: {best_cls_name}\")"
   ]
  },
  {
   "cell_type": "code",
   "execution_count": 14,
   "id": "af9ec7c1",
   "metadata": {},
   "outputs": [],
   "source": [
    "from sklearn.linear_model import Ridge, Lasso\n",
    "from sklearn.ensemble import RandomForestRegressor, AdaBoostRegressor\n",
    "from sklearn.tree import DecisionTreeRegressor\n",
    "from xgboost import XGBRegressor\n",
    "from sklearn.multioutput import MultiOutputRegressor\n",
    "from sklearn.metrics import r2_score\n",
    "regressors = {\n",
    "    \"Ridge\": Ridge(),\n",
    "    \"Lasso\": Lasso(),\n",
    "    \"Random Forest\": RandomForestRegressor(n_estimators=50, random_state=42),\n",
    "    \"AdaBoost\": AdaBoostRegressor(n_estimators=50, random_state=42),\n",
    "    \"Decision Tree\": DecisionTreeRegressor(random_state=42),\n",
    "     \"XGBoost\": XGBRegressor(n_estimators=50, random_state=42)\n",
    "}"
   ]
  },
  {
   "cell_type": "code",
   "execution_count": 15,
   "id": "78cf8505",
   "metadata": {},
   "outputs": [
    {
     "name": "stdout",
     "output_type": "stream",
     "text": [
      "Ridge R² Score: -0.04%\n",
      "Lasso R² Score: -0.06%\n",
      "Random Forest R² Score: 88.80%\n",
      "AdaBoost R² Score: 0.19%\n",
      "Decision Tree R² Score: 91.98%\n",
      "XGBoost R² Score: 34.22%\n",
      "\n",
      "Best Regressor: Decision Tree\n"
     ]
    }
   ],
   "source": [
    "best_reg_name = None\n",
    "best_reg_score = 0\n",
    "best_reg_pipeline = None\n",
    "for name, model in regressors.items():\n",
    "    pipe = Pipeline([\n",
    "        (\"preprocess\", preprocessor),\n",
    "        (\"regressor\", MultiOutputRegressor(model))\n",
    "    ])\n",
    "    pipe.fit(X_train, y_train_regs)\n",
    "    pred_regs = pipe.predict(X_test)\n",
    "    r2 = r2_score(y_test_regs, pred_regs, multioutput=\"uniform_average\")\n",
    "    print(f\"{name} R² Score: {r2 * 100:.2f}%\")\n",
    "    if r2 > best_reg_score:\n",
    "        best_reg_score = r2\n",
    "        best_reg_name = name\n",
    "        best_reg_pipeline = pipe\n",
    "\n",
    "joblib.dump(best_reg_pipeline, \"best_regressor_model.joblib\")\n",
    "print(f\"\\nBest Regressor: {best_reg_name}\")\n"
   ]
  },
  {
   "cell_type": "code",
   "execution_count": 16,
   "id": "c4d57a65",
   "metadata": {},
   "outputs": [
    {
     "name": "stdout",
     "output_type": "stream",
     "text": [
      "Available categorical options in dataset:\n",
      "Product Type: ['Tractors', 'Tillers/Cultivators', 'Lawn Mowers', 'Commercial Lawn and Garden']\n",
      "Shaft Rotation: ['Vertical', 'Horizontal']\n",
      "Fuel Type: ['Petrol', 'Diesel']\n",
      "Charging System: ['12V DC', 'Alternator']\n",
      "Engine Type: ['OHV', '4-stroke', 'V-twin', '2-stroke']\n",
      "\n",
      "Rows after hard categorical filters: 45\n",
      "\n",
      "Predicted Series: GX Commercial\n",
      "\n",
      "Top 3 Engine Recommendations:\n",
      "\n",
      "  Product Type Shaft Rotation Fuel Type Charging System Engine Type  \\\n",
      "0  Lawn Mowers       Vertical    Petrol          12V DC         OHV   \n",
      "1  Lawn Mowers       Vertical    Petrol          12V DC         OHV   \n",
      "2  Lawn Mowers       Vertical    Petrol          12V DC         OHV   \n",
      "\n",
      "   Maximum Power (HP)  Engine Displacement (cc)         Series  Bore (mm)  \\\n",
      "0                 5.0                        97  GX Commercial     57.523   \n",
      "1                 5.0                        97  GX Commercial     57.538   \n",
      "2                 5.0                        97  GX Commercial     57.508   \n",
      "\n",
      "   Stroke (mm)  Oil Capacity (L)  Cylinders (qty.)  Dry Weight (kg)  \\\n",
      "0       52.031             2.067                 1           19.914   \n",
      "1       52.048             2.096                 1           19.922   \n",
      "2       52.014             2.038                 1           19.906   \n",
      "\n",
      "   Shaft Diameter (mm)  \n",
      "0               31.966  \n",
      "1               32.009  \n",
      "2               31.923  \n"
     ]
    }
   ],
   "source": [
    "\n",
    "import pandas as pd\n",
    "import joblib\n",
    "from sklearn.metrics.pairwise import euclidean_distances\n",
    "regressor = joblib.load(\"best_regressor_model.joblib\")\n",
    "classifier = joblib.load(\"series_classifier_model.joblib\")\n",
    "label_enc = joblib.load(\"series_label_encoder.joblib\")\n",
    "df = pd.read_csv(\"Honda Engine Dataset.csv\")\n",
    "\n",
    "#test \n",
    "sample_input = pd.DataFrame([{\n",
    "    \"Product Type\": \"Lawn Mowers\",\n",
    "    \"Shaft Rotation\": \"Vertical\",\n",
    "    \"Fuel Type\": \"Petrol\",\n",
    "    \"Charging System\": \"12V DC\",\n",
    "    \"Engine Type\": \"OHV\",\n",
    "    \"Maximum Power (HP)\": 5,\n",
    "    \"Engine Displacement (cc)\": 97\n",
    "}])\n",
    "\n",
    "input_cols = [\n",
    "    \"Product Type\", \"Shaft Rotation\", \"Fuel Type\",\n",
    "    \"Charging System\", \"Engine Type\",\n",
    "    \"Maximum Power (HP)\", \"Engine Displacement (cc)\"\n",
    "]\n",
    "output_regs = [\n",
    "    \"Bore (mm)\", \"Stroke (mm)\", \"Oil Capacity (L)\",\n",
    "    \"Cylinders (qty.)\", \"Dry Weight (kg)\", \"Shaft Diameter (mm)\"\n",
    "]\n",
    "spec_cols = output_regs.copy()\n",
    "# hard filters on categorical fields\n",
    "filtered = df.copy()\n",
    "for col in [\"Product Type\", \"Shaft Rotation\", \"Fuel Type\", \"Charging System\", \"Engine Type\"]:\n",
    "    val = sample_input.at[0, col]\n",
    "    filtered = filtered[filtered[col] == val]\n",
    "\n",
    "print(\"Available categorical options in dataset:\")\n",
    "for col in [\"Product Type\", \"Shaft Rotation\", \"Fuel Type\", \"Charging System\", \"Engine Type\"]:\n",
    "    print(f\"{col}: {df[col].dropna().unique().tolist()}\")\n",
    "\n",
    "print(f\"\\nRows after hard categorical filters: {len(filtered)}\")\n",
    "# Recommendation if Engine remain\n",
    "if filtered.empty:\n",
    "    print(\" No engine matches the hard filters.\")\n",
    "else:\n",
    "    # Predict specifications\n",
    "    predicted_specs = regressor.predict(sample_input[input_cols])[0]\n",
    "\n",
    "    # Compute distances on the 6 predicted numeric outputs\n",
    "    distances = euclidean_distances(filtered[spec_cols], [predicted_specs])\n",
    "    filtered[\"Distance\"] = distances\n",
    "\n",
    "    # Recommend top 3 engines\n",
    "    top3 = filtered.sort_values(\"Distance\").head(3).reset_index(drop=True)\n",
    "\n",
    "    # Predict Series\n",
    "    predicted_series = classifier.predict(sample_input[input_cols])[0]\n",
    "    series_name = label_enc.inverse_transform([predicted_series])[0]\n",
    "\n",
    "    # Display result\n",
    "    print(f\"\\nPredicted Series: {series_name}\")\n",
    "    print(\"\\nTop 3 Engine Recommendations:\\n\")\n",
    "    display_cols = input_cols + [\"Series\"] + output_regs\n",
    "    print(top3[display_cols])\n",
    "\n",
    "\n"
   ]
  }
 ],
 "metadata": {
  "kernelspec": {
   "display_name": "Python 3",
   "language": "python",
   "name": "python3"
  },
  "language_info": {
   "codemirror_mode": {
    "name": "ipython",
    "version": 3
   },
   "file_extension": ".py",
   "mimetype": "text/x-python",
   "name": "python",
   "nbconvert_exporter": "python",
   "pygments_lexer": "ipython3",
   "version": "3.13.1"
  }
 },
 "nbformat": 4,
 "nbformat_minor": 5
}
